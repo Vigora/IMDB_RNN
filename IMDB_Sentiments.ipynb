{
 "cells": [
  {
   "cell_type": "code",
   "execution_count": 20,
   "metadata": {},
   "outputs": [],
   "source": [
    "%matplotlib inline\n",
    "import matplotlib.pyplot as plt\n",
    "\n",
    "import keras\n",
    "from keras.models import Model, Sequential\n",
    "from keras.layers import *\n",
    "from keras.optimizers import Adam\n",
    "\n",
    "import tensorflow as tf\n",
    "import numpy as np\n",
    "\n",
    "import pandas as pd\n",
    "from collections import Counter\n",
    "from sklearn.model_selection import train_test_split\n"
   ]
  },
  {
   "cell_type": "code",
   "execution_count": 21,
   "metadata": {},
   "outputs": [
    {
     "name": "stdout",
     "output_type": "stream",
     "text": [
      "2.0.8\n",
      "1.1.0\n"
     ]
    }
   ],
   "source": [
    "print(keras.__version__)\n",
    "print(tf.__version__)\n"
   ]
  },
  {
   "cell_type": "markdown",
   "metadata": {},
   "source": [
    "### Lets import our dataset"
   ]
  },
  {
   "cell_type": "code",
   "execution_count": 22,
   "metadata": {},
   "outputs": [],
   "source": [
    "from keras.datasets import imdb\n",
    "from keras import preprocessing\n",
    "# Number of words to consider as features\n",
    "max_features = 10000\n",
    "# Cut texts after this number of words\n",
    "# (among top max_features most common words)\n",
    "maxlen = 25\n",
    "# Load the data as lists of integers.\n",
    "(x_train, y_train), (x_test, y_test) = imdb.load_data(num_words=max_features)\n",
    "\n"
   ]
  },
  {
   "cell_type": "code",
   "execution_count": 23,
   "metadata": {},
   "outputs": [
    {
     "name": "stdout",
     "output_type": "stream",
     "text": [
      "(25000,)\n",
      "(25000,)\n"
     ]
    }
   ],
   "source": [
    "print(x_train.shape)\n",
    "print(x_test.shape)\n",
    "\n"
   ]
  },
  {
   "cell_type": "code",
   "execution_count": 24,
   "metadata": {},
   "outputs": [
    {
     "name": "stdout",
     "output_type": "stream",
     "text": [
      "[1, 89, 27, 2, 9289, 17, 199, 132, 5, 4191, 16, 1339, 24, 8, 760, 4, 1385, 7, 4, 22, 1368, 2, 16, 5149, 17, 1635, 7, 2, 1368, 9, 4, 1357, 8, 14, 991, 13, 877, 38, 19, 27, 239, 13, 100, 235, 61, 483, 2, 4, 7, 4, 20, 131, 1102, 72, 8, 14, 251, 27, 1146, 7, 308, 16, 735, 1517, 17, 29, 144, 28, 77, 2305, 18, 12]\n",
      "1\n"
     ]
    }
   ],
   "source": [
    "print(x_test[0])\n",
    "print(y_test[0])\n"
   ]
  },
  {
   "cell_type": "code",
   "execution_count": 25,
   "metadata": {
    "collapsed": true
   },
   "outputs": [],
   "source": [
    "# This turns our lists of integers\n",
    "# into a 2D integer tensor of shape `(samples, maxlen)`\n",
    "x_train = preprocessing.sequence.pad_sequences(x_train, maxlen=maxlen)\n",
    "x_test = preprocessing.sequence.pad_sequences(x_test, maxlen=maxlen)"
   ]
  },
  {
   "cell_type": "code",
   "execution_count": 26,
   "metadata": {},
   "outputs": [
    {
     "name": "stdout",
     "output_type": "stream",
     "text": [
      "[   4    7    4   20  131 1102   72    8   14  251   27 1146    7  308   16\n",
      "  735 1517   17   29  144   28   77 2305   18   12]\n",
      "1\n",
      "[  92   25  104    4  226   65   16   38 1334   88   12   16  283    5   16\n",
      " 4472  113  103   32   15   16 5345   19  178   32]\n"
     ]
    }
   ],
   "source": [
    "print(x_test[0])\n",
    "print(y_test[0])\n",
    "print(x_train[0])\n"
   ]
  },
  {
   "cell_type": "markdown",
   "metadata": {},
   "source": [
    "Counting the words in the dataset"
   ]
  },
  {
   "cell_type": "code",
   "execution_count": 27,
   "metadata": {},
   "outputs": [
    {
     "name": "stdout",
     "output_type": "stream",
     "text": [
      "Total words in data set:  9744\n"
     ]
    }
   ],
   "source": [
    "nums = sorted(list(set(x_train.reshape(x_train.shape[0]*x_train.shape[1]))))\n",
    "print(\"Total words in data set: \", len(nums))"
   ]
  },
  {
   "cell_type": "markdown",
   "metadata": {},
   "source": [
    "Just keeping the 10k most frequent words"
   ]
  },
  {
   "cell_type": "code",
   "execution_count": 28,
   "metadata": {},
   "outputs": [
    {
     "name": "stdout",
     "output_type": "stream",
     "text": [
      "_________________________________________________________________\n",
      "Layer (type)                 Output Shape              Param #   \n",
      "=================================================================\n",
      "embedding_2 (Embedding)      (None, 25, 8)             80000     \n",
      "_________________________________________________________________\n",
      "flatten_2 (Flatten)          (None, 200)               0         \n",
      "_________________________________________________________________\n",
      "dense_2 (Dense)              (None, 1)                 201       \n",
      "=================================================================\n",
      "Total params: 80,201\n",
      "Trainable params: 80,201\n",
      "Non-trainable params: 0\n",
      "_________________________________________________________________\n",
      "Train on 20000 samples, validate on 5000 samples\n",
      "Epoch 1/10\n",
      "20000/20000 [==============================] - 3s - loss: 0.6605 - acc: 0.6421 - val_loss: 0.5995 - val_acc: 0.7154\n",
      "Epoch 2/10\n",
      "20000/20000 [==============================] - 3s - loss: 0.5191 - acc: 0.7677 - val_loss: 0.5056 - val_acc: 0.7508\n",
      "Epoch 3/10\n",
      "20000/20000 [==============================] - 3s - loss: 0.4359 - acc: 0.8045 - val_loss: 0.4812 - val_acc: 0.7588\n",
      "Epoch 4/10\n",
      "20000/20000 [==============================] - 3s - loss: 0.3946 - acc: 0.8252 - val_loss: 0.4740 - val_acc: 0.7666\n",
      "Epoch 5/10\n",
      "20000/20000 [==============================] - 3s - loss: 0.3658 - acc: 0.8390 - val_loss: 0.4744 - val_acc: 0.7684\n",
      "Epoch 6/10\n",
      "20000/20000 [==============================] - 3s - loss: 0.3425 - acc: 0.8523 - val_loss: 0.4788 - val_acc: 0.7684\n",
      "Epoch 7/10\n",
      "20000/20000 [==============================] - 3s - loss: 0.3224 - acc: 0.8623 - val_loss: 0.4858 - val_acc: 0.7678\n",
      "Epoch 8/10\n",
      "20000/20000 [==============================] - 3s - loss: 0.3041 - acc: 0.8721 - val_loss: 0.4941 - val_acc: 0.7658\n",
      "Epoch 9/10\n",
      "20000/20000 [==============================] - 4s - loss: 0.2869 - acc: 0.8806 - val_loss: 0.5033 - val_acc: 0.7656\n",
      "Epoch 10/10\n",
      "20000/20000 [==============================] - 3s - loss: 0.2710 - acc: 0.8886 - val_loss: 0.5132 - val_acc: 0.7614\n"
     ]
    }
   ],
   "source": [
    "from keras.models import Sequential\n",
    "from keras.layers import Flatten, Dense\n",
    "model = Sequential()\n",
    "# We specify the maximum input length to our Embedding layer\n",
    "# so we can later flatten the embedded inputs\n",
    "model.add(Embedding(10000, 8, input_length=maxlen))\n",
    "# After the Embedding layer,\n",
    "# our activations have shape `(samples, maxlen, 8)`.\n",
    "# We flatten the 3D tensor of embeddings\n",
    "# into a 2D tensor of shape `(samples, maxlen * 8)`\n",
    "model.add(Flatten())\n",
    "# We add the classifier on top\n",
    "model.add(Dense(1, activation='sigmoid'))\n",
    "model.compile(optimizer='rmsprop', loss='binary_crossentropy', metrics=['acc'])\n",
    "model.summary()\n",
    "history = model.fit(x_train, y_train,\n",
    "epochs=10,\n",
    "batch_size=32,\n",
    "validation_split=0.2)"
   ]
  },
  {
   "cell_type": "markdown",
   "metadata": {},
   "source": [
    "### Simple RNN model for IMDB analysis\n",
    "\n"
   ]
  },
  {
   "cell_type": "code",
   "execution_count": 29,
   "metadata": {},
   "outputs": [
    {
     "name": "stdout",
     "output_type": "stream",
     "text": [
      "Loading data...\n",
      "25000 train sequences\n",
      "25000 test sequences\n",
      "Pad sequences (samples x time)\n",
      "input_train shape: (25000, 500)\n",
      "input_test shape: (25000, 500)\n"
     ]
    }
   ],
   "source": [
    "from keras.datasets import imdb\n",
    "from keras.preprocessing import sequence\n",
    "max_features = 10000 # number of words to consider as features\n",
    "maxlen = 500 # cut texts after this number of words (among top max_features most common words)\n",
    "batch_size = 32\n",
    "print('Loading data...')\n",
    "(input_train, y_train), (input_test, y_test) = imdb.load_data(num_words=max_features)\n",
    "print(len(input_train), 'train sequences')\n",
    "print(len(input_test), 'test sequences')\n",
    "print('Pad sequences (samples x time)')\n",
    "input_train = sequence.pad_sequences(input_train, maxlen=maxlen)\n",
    "input_test = sequence.pad_sequences(input_test, maxlen=maxlen)\n",
    "print('input_train shape:', input_train.shape)\n",
    "print('input_test shape:', input_test.shape)"
   ]
  },
  {
   "cell_type": "code",
   "execution_count": 30,
   "metadata": {},
   "outputs": [
    {
     "name": "stdout",
     "output_type": "stream",
     "text": [
      "Train on 20000 samples, validate on 5000 samples\n",
      "Epoch 1/10\n",
      "20000/20000 [==============================] - 18s - loss: 0.6492 - acc: 0.6146 - val_loss: 0.4988 - val_acc: 0.8036\n",
      "Epoch 2/10\n",
      "20000/20000 [==============================] - 18s - loss: 0.4173 - acc: 0.8262 - val_loss: 0.3933 - val_acc: 0.8368\n",
      "Epoch 3/10\n",
      "20000/20000 [==============================] - 18s - loss: 0.2910 - acc: 0.8823 - val_loss: 0.3946 - val_acc: 0.8404\n",
      "Epoch 4/10\n",
      "20000/20000 [==============================] - 18s - loss: 0.2230 - acc: 0.9139 - val_loss: 0.4261 - val_acc: 0.8268\n",
      "Epoch 5/10\n",
      "20000/20000 [==============================] - 18s - loss: 0.1563 - acc: 0.9425 - val_loss: 0.5032 - val_acc: 0.8136\n",
      "Epoch 6/10\n",
      "20000/20000 [==============================] - 18s - loss: 0.1028 - acc: 0.9651 - val_loss: 0.7184 - val_acc: 0.7932\n",
      "Epoch 7/10\n",
      "20000/20000 [==============================] - 18s - loss: 0.0621 - acc: 0.9800 - val_loss: 0.5278 - val_acc: 0.8272\n",
      "Epoch 8/10\n",
      "20000/20000 [==============================] - 18s - loss: 0.0363 - acc: 0.9895 - val_loss: 0.5671 - val_acc: 0.8322\n",
      "Epoch 9/10\n",
      "20000/20000 [==============================] - 18s - loss: 0.0248 - acc: 0.9931 - val_loss: 0.6334 - val_acc: 0.8274\n",
      "Epoch 10/10\n",
      "20000/20000 [==============================] - 18s - loss: 0.0186 - acc: 0.9942 - val_loss: 0.6472 - val_acc: 0.8316\n"
     ]
    }
   ],
   "source": [
    "from keras.layers import Dense\n",
    "model = Sequential()\n",
    "model.add(Embedding(max_features, 32))\n",
    "model.add(SimpleRNN(32))\n",
    "model.add(Dense(1, activation='sigmoid'))\n",
    "model.compile(optimizer='rmsprop', loss='binary_crossentropy', metrics=['acc'])\n",
    "history = model.fit(input_train, y_train,\n",
    "epochs=10,\n",
    "batch_size=128,\n",
    "validation_split=0.2)"
   ]
  },
  {
   "cell_type": "markdown",
   "metadata": {},
   "source": [
    "Plot the result"
   ]
  },
  {
   "cell_type": "code",
   "execution_count": 31,
   "metadata": {},
   "outputs": [
    {
     "data": {
      "image/png": "[encoded data removed]",
      "text/plain": [
       "<matplotlib.figure.Figure at 0x217497ff438>"
      ]
     },
     "metadata": {},
     "output_type": "display_data"
    },
    {
     "data": {
      "image/png": "[encoded data removed]",
      "text/plain": [
       "<matplotlib.figure.Figure at 0x21749818128>"
      ]
     },
     "metadata": {},
     "output_type": "display_data"
    }
   ],
   "source": [
    "import matplotlib.pyplot as plt\n",
    "acc = history.history['acc']\n",
    "val_acc = history.history['val_acc']\n",
    "loss = history.history['loss']\n",
    "val_loss = history.history['val_loss']\n",
    "epochs = range(1, len(acc) + 1)\n",
    "plt.plot(epochs, acc, 'bo', label='Training acc')\n",
    "plt.plot(epochs, val_acc, 'b', label='Validation acc')\n",
    "plt.title('Training and validation accuracy')\n",
    "plt.legend()\n",
    "plt.figure()\n",
    "plt.plot(epochs, loss, 'bo', label='Training loss')\n",
    "plt.plot(epochs, val_loss, 'b', label='Validation loss')\n",
    "plt.title('Training and validation loss')\n",
    "plt.legend()\n",
    "plt.show()\n"
   ]
  },
  {
   "cell_type": "code",
   "execution_count": 35,
   "metadata": {},
   "outputs": [],
   "source": [
    "preds = model.predict(input_test[100:105])"
   ]
  },
  {
   "cell_type": "code",
   "execution_count": 55,
   "metadata": {},
   "outputs": [
    {
     "data": {
      "text/plain": [
       "array([[ 0.00147909],\n",
       "       [ 0.00214051],\n",
       "       [ 0.99489319],\n",
       "       [ 0.01012734],\n",
       "       [ 0.08949097]], dtype=float32)"
      ]
     },
     "execution_count": 55,
     "metadata": {},
     "output_type": "execute_result"
    }
   ],
   "source": [
    "preds"
   ]
  },
  {
   "cell_type": "code",
   "execution_count": 56,
   "metadata": {},
   "outputs": [
    {
     "data": {
      "text/plain": [
       "array([0, 1, 1, 0, 1], dtype=int64)"
      ]
     },
     "execution_count": 56,
     "metadata": {},
     "output_type": "execute_result"
    }
   ],
   "source": [
    "y_test[100:105]"
   ]
  },
  {
   "cell_type": "code",
   "execution_count": 76,
   "metadata": {},
   "outputs": [
    {
     "name": "stdout",
     "output_type": "stream",
     "text": [
      "(5, 1)\n",
      "[[0 1 0 0 1]]\n"
     ]
    },
    {
     "data": {
      "text/plain": [
       "2"
      ]
     },
     "execution_count": 76,
     "metadata": {},
     "output_type": "execute_result"
    }
   ],
   "source": [
    "print(preds.shape)\n",
    "p = np.around(preds).astype(np.int64)\n",
    "p\n",
    "\n",
    "z = y_test[100:105] - p.transpose()\n",
    "print(z)\n",
    "np.count_nonzero(z)"
   ]
  },
  {
   "cell_type": "code",
   "execution_count": 78,
   "metadata": {},
   "outputs": [
    {
     "name": "stdout",
     "output_type": "stream",
     "text": [
      "25000\n",
      "Test set accuracy =  72.392 %\n"
     ]
    }
   ],
   "source": [
    "predsAll = model.predict(input_test) \n",
    "p = np.around(predsAll).astype(np.int64)\n",
    "\n",
    "z = y_test - p.transpose() \n",
    "print(len(z[0])) \n",
    "flse = np.count_nonzero(z) \n",
    "print('Test set accuracy = ', 100 - flse/len(z[0])*100, '%')\n"
   ]
  },
  {
   "cell_type": "markdown",
   "metadata": {},
   "source": [
    "# LSTM and IMDB"
   ]
  },
  {
   "cell_type": "code",
   "execution_count": 79,
   "metadata": {},
   "outputs": [
    {
     "name": "stdout",
     "output_type": "stream",
     "text": [
      "Train on 20000 samples, validate on 5000 samples\n",
      "Epoch 1/10\n",
      "20000/20000 [==============================] - 105s - loss: 0.5158 - acc: 0.7553 - val_loss: 0.3672 - val_acc: 0.8524\n",
      "Epoch 2/10\n",
      "20000/20000 [==============================] - 104s - loss: 0.2882 - acc: 0.8889 - val_loss: 0.3111 - val_acc: 0.8772\n",
      "Epoch 3/10\n",
      "20000/20000 [==============================] - 104s - loss: 0.2322 - acc: 0.9131 - val_loss: 0.5005 - val_acc: 0.8068\n",
      "Epoch 4/10\n",
      "20000/20000 [==============================] - 104s - loss: 0.1957 - acc: 0.9280 - val_loss: 0.3645 - val_acc: 0.8750\n",
      "Epoch 5/10\n",
      "20000/20000 [==============================] - 107s - loss: 0.1782 - acc: 0.9356 - val_loss: 0.3748 - val_acc: 0.8386\n",
      "Epoch 6/10\n",
      "20000/20000 [==============================] - 114s - loss: 0.1517 - acc: 0.9453 - val_loss: 0.3486 - val_acc: 0.8760\n",
      "Epoch 7/10\n",
      "20000/20000 [==============================] - 116s - loss: 0.1459 - acc: 0.9463 - val_loss: 0.3350 - val_acc: 0.8644\n",
      "Epoch 8/10\n",
      "20000/20000 [==============================] - 116s - loss: 0.1309 - acc: 0.9545 - val_loss: 0.7194 - val_acc: 0.8030\n",
      "Epoch 9/10\n",
      "20000/20000 [==============================] - 112s - loss: 0.1155 - acc: 0.9607 - val_loss: 0.4366 - val_acc: 0.8602\n",
      "Epoch 10/10\n",
      "20000/20000 [==============================] - 113s - loss: 0.1140 - acc: 0.9609 - val_loss: 0.3629 - val_acc: 0.8750\n"
     ]
    }
   ],
   "source": [
    "from keras.layers import LSTM\n",
    "model = Sequential()\n",
    "model.add(Embedding(max_features, 32))\n",
    "model.add(LSTM(32))\n",
    "model.add(Dense(1, activation='sigmoid'))\n",
    "model.compile(optimizer='rmsprop',\n",
    "loss='binary_crossentropy',\n",
    "metrics=['acc'])\n",
    "history = model.fit(input_train, y_train,\n",
    "epochs=10,\n",
    "batch_size=128,\n",
    "validation_split=0.2)"
   ]
  },
  {
   "cell_type": "code",
   "execution_count": 84,
   "metadata": {},
   "outputs": [
    {
     "name": "stdout",
     "output_type": "stream",
     "text": [
      "Train on 20000 samples, validate on 5000 samples\n",
      "Epoch 1/10\n",
      "20000/20000 [==============================] - 83s - loss: 0.7253 - acc: 0.6558 - val_loss: 0.5741 - val_acc: 0.7222\n",
      "Epoch 2/10\n",
      "20000/20000 [==============================] - 83s - loss: 0.5337 - acc: 0.7656 - val_loss: 0.6531 - val_acc: 0.7004\n",
      "Epoch 3/10\n",
      "20000/20000 [==============================] - 82s - loss: 0.4850 - acc: 0.7557 - val_loss: 0.4934 - val_acc: 0.7670\n",
      "Epoch 4/10\n",
      "20000/20000 [==============================] - 82s - loss: 0.4728 - acc: 0.7630 - val_loss: 0.6879 - val_acc: 0.6498\n",
      "Epoch 5/10\n",
      "20000/20000 [==============================] - 83s - loss: 0.4782 - acc: 0.7490 - val_loss: 0.4952 - val_acc: 0.7698\n",
      "Epoch 6/10\n",
      "20000/20000 [==============================] - 83s - loss: 0.4136 - acc: 0.7942 - val_loss: 0.4848 - val_acc: 0.7952\n",
      "Epoch 7/10\n",
      "20000/20000 [==============================] - 83s - loss: 0.3667 - acc: 0.8172 - val_loss: 0.5062 - val_acc: 0.7896\n",
      "Epoch 8/10\n",
      "20000/20000 [==============================] - 82s - loss: 0.3220 - acc: 0.8483 - val_loss: 0.5167 - val_acc: 0.7888\n",
      "Epoch 9/10\n",
      "20000/20000 [==============================] - 83s - loss: 0.3450 - acc: 0.8449 - val_loss: 0.4746 - val_acc: 0.8282\n",
      "Epoch 10/10\n",
      "20000/20000 [==============================] - 83s - loss: 0.3259 - acc: 0.8628 - val_loss: 0.5255 - val_acc: 0.8052\n"
     ]
    }
   ],
   "source": [
    "from keras.models import Sequential\n",
    "from keras import layers\n",
    "from keras.optimizers import RMSprop\n",
    "modelGRU = Sequential()\n",
    "modelGRU.add(Embedding(max_features, 32))\n",
    "modelGRU.add(layers.GRU(32))\n",
    "modelGRU.add(layers.Dense(1))\n",
    "modelGRU.compile(optimizer='rmsprop',\n",
    "        loss='binary_crossentropy',\n",
    "        metrics=['acc'])\n",
    "history = modelGRU.fit(input_train, y_train,\n",
    "epochs=10,\n",
    "batch_size=128,\n",
    "validation_split=0.2)"
   ]
  },
  {
   "cell_type": "code",
   "execution_count": 87,
   "metadata": {},
   "outputs": [
    {
     "name": "stdout",
     "output_type": "stream",
     "text": [
      "Train on 20000 samples, validate on 5000 samples\n",
      "Epoch 1/10\n",
      "20000/20000 [==============================] - 87s - loss: 0.7113 - acc: 0.6260 - val_loss: 0.5902 - val_acc: 0.7172\n",
      "Epoch 2/10\n",
      "20000/20000 [==============================] - 85s - loss: 0.5813 - acc: 0.7378 - val_loss: 0.6525 - val_acc: 0.7224\n",
      "Epoch 3/10\n",
      "20000/20000 [==============================] - 85s - loss: 0.5495 - acc: 0.7602 - val_loss: 0.5987 - val_acc: 0.7332\n",
      "Epoch 4/10\n",
      "20000/20000 [==============================] - 85s - loss: 0.5380 - acc: 0.7689 - val_loss: 0.5496 - val_acc: 0.7522\n",
      "Epoch 5/10\n",
      "20000/20000 [==============================] - 89s - loss: 0.5232 - acc: 0.7636 - val_loss: 0.5866 - val_acc: 0.7374\n",
      "Epoch 6/10\n",
      "20000/20000 [==============================] - 86s - loss: 0.5019 - acc: 0.7652 - val_loss: 0.5802 - val_acc: 0.7484\n",
      "Epoch 7/10\n",
      "20000/20000 [==============================] - 85s - loss: 0.5167 - acc: 0.7418 - val_loss: 0.6372 - val_acc: 0.7376\n",
      "Epoch 8/10\n",
      "20000/20000 [==============================] - 85s - loss: 0.4510 - acc: 0.7853 - val_loss: 0.6419 - val_acc: 0.7578\n",
      "Epoch 9/10\n",
      "20000/20000 [==============================] - 85s - loss: 0.4169 - acc: 0.8054 - val_loss: 0.6652 - val_acc: 0.7684\n",
      "Epoch 10/10\n",
      "20000/20000 [==============================] - 85s - loss: 0.4643 - acc: 0.7749 - val_loss: 0.5545 - val_acc: 0.7766\n"
     ]
    }
   ],
   "source": [
    "from keras.models import Sequential\n",
    "from keras import layers\n",
    "from keras.optimizers import RMSprop\n",
    "modelGRU_D = Sequential()\n",
    "modelGRU_D.add(Embedding(max_features, 32))\n",
    "modelGRU_D.add(layers.GRU(32,\n",
    "        dropout=0.2,\n",
    "        recurrent_dropout=0.2))\n",
    "modelGRU_D.add(layers.Dense(1))\n",
    "modelGRU_D.compile(optimizer='rmsprop',\n",
    "        loss='binary_crossentropy',\n",
    "        metrics=['acc'])\n",
    "history_D = modelGRU_D.fit(input_train, y_train,\n",
    "epochs=10,\n",
    "batch_size=128,\n",
    "validation_split=0.2)\n"
   ]
  },
  {
   "cell_type": "code",
   "execution_count": null,
   "metadata": {},
   "outputs": [
    {
     "name": "stdout",
     "output_type": "stream",
     "text": [
      "Train on 20000 samples, validate on 5000 samples\n",
      "Epoch 1/10\n",
      "20000/20000 [==============================] - 247s - loss: 0.5573 - acc: 0.7206 - val_loss: 0.3914 - val_acc: 0.8532\n",
      "Epoch 2/10\n",
      " 7808/20000 [==========>...................] - ETA: 123s - loss: 0.3646 - acc: 0.8517"
     ]
    }
   ],
   "source": [
    "modelB = Sequential()\n",
    "modelB.add(layers.Embedding(max_features, 32))\n",
    "modelB.add(layers.Bidirectional(layers.LSTM(32)))\n",
    "modelB.add(layers.Dense(1, activation='sigmoid'))\n",
    "modelB.compile(optimizer='rmsprop', loss='binary_crossentropy', metrics=['acc'])\n",
    "historyB = modelB.fit(input_train, y_train, epochs=10, batch_size=128, validation_split=0.2)\n"
   ]
  },
  {
   "cell_type": "code",
   "execution_count": null,
   "metadata": {},
   "outputs": [],
   "source": [
    "modelB_ = Sequential()\n",
    "modelB_.add(layers.Embedding(max_features, 128))\n",
    "modelB_.add(layers.Bidirectional(layers.LSTM(128)))\n",
    "modelB_.add(layers.Dense(1, activation='sigmoid'))\n",
    "modelB_.compile(optimizer='rmsprop', loss='binary_crossentropy', metrics=['acc'])\n",
    "historyB_ = modelB_.fit(input_train, y_train, epochs=10, batch_size=128, validation_split=0.2)"
   ]
  },
  {
   "cell_type": "code",
   "execution_count": null,
   "metadata": {},
   "outputs": [],
   "source": [
    "predsAll = modelB_.predict(input_test) \n",
    "p = np.around(predsAll).astype(np.int64)\n",
    "\n",
    "z = y_test - p.transpose() \n",
    "print(len(z[0])) \n",
    "flse = np.count_nonzero(z) \n",
    "print('Test set accuracy = ', 100 - flse/len(z[0])*100, '%')"
   ]
  },
  {
   "cell_type": "code",
   "execution_count": null,
   "metadata": {
    "collapsed": true
   },
   "outputs": [],
   "source": []
  }
 ],
 "metadata": {
  "kernelspec": {
   "display_name": "Python 3",
   "language": "python",
   "name": "python3"
  },
  "language_info": {
   "codemirror_mode": {
    "name": "ipython",
    "version": 3
   },
   "file_extension": ".py",
   "mimetype": "text/x-python",
   "name": "python",
   "nbconvert_exporter": "python",
   "pygments_lexer": "ipython3",
   "version": "3.5.4"
  }
 },
 "nbformat": 4,
 "nbformat_minor": 2
}
